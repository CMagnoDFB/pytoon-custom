{
 "cells": [
  {
   "cell_type": "code",
   "execution_count": 1,
   "metadata": {},
   "outputs": [],
   "source": [
    "from pytoon.animator import animate\n",
    "from pprint import pprint\n",
    "\n",
    "from moviepy.editor import VideoFileClip, AudioFileClip, vfx, ImageClip, ImageSequenceClip, concatenate_videoclips, VideoClip, CompositeVideoClip, CompositeAudioClip"
   ]
  },
  {
   "cell_type": "code",
   "execution_count": 2,
   "metadata": {},
   "outputs": [],
   "source": [
    "text_path = \"./.temp/speech.txt\"\n",
    "audio_path = \"./.temp/speech.mp3\"\n",
    "video_path = \"./out.mov\"\n",
    "final_video_path = \"./final.mp4\""
   ]
  },
  {
   "cell_type": "code",
   "execution_count": 3,
   "metadata": {},
   "outputs": [
    {
     "name": "stdout",
     "output_type": "stream",
     "text": [
      "Time Start: 0.0\n",
      "Target Duration: 37.928\n",
      "Target Frames: 1820\n",
      "Num Created: 1814\n",
      "Duration: 37.791666666666664\n"
     ]
    }
   ],
   "source": [
    "with open(text_path, \"r\") as file:\n",
    "    transcript = file.read()\n",
    "\n",
    "animation = animate(\n",
    "    audio_file=audio_path,\n",
    "    transcript=transcript\n",
    ")"
   ]
  },
  {
   "cell_type": "code",
   "execution_count": 4,
   "metadata": {},
   "outputs": [
    {
     "name": "stdout",
     "output_type": "stream",
     "text": [
      "1814\n",
      "(1080, 960, 4)\n"
     ]
    }
   ],
   "source": [
    "print(len(animation.final_frames))\n",
    "print(animation.final_frames[0].shape)"
   ]
  },
  {
   "cell_type": "code",
   "execution_count": 5,
   "metadata": {},
   "outputs": [
    {
     "name": "stdout",
     "output_type": "stream",
     "text": [
      "Moviepy - Building video output_video.mp4.\n",
      "MoviePy - Writing audio in output_videoTEMP_MPY_wvf_snd.mp4\n"
     ]
    },
    {
     "name": "stderr",
     "output_type": "stream",
     "text": [
      "                                                                    \r"
     ]
    },
    {
     "name": "stdout",
     "output_type": "stream",
     "text": [
      "MoviePy - Done.\n",
      "Moviepy - Writing video output_video.mp4\n",
      "\n"
     ]
    },
    {
     "name": "stderr",
     "output_type": "stream",
     "text": [
      "                                                                \r"
     ]
    },
    {
     "name": "stdout",
     "output_type": "stream",
     "text": [
      "Moviepy - Done !\n",
      "Moviepy - video ready output_video.mp4\n"
     ]
    }
   ],
   "source": [
    "fps = 48\n",
    "\n",
    "video_clip = ImageClip(\"./.temp/image.jpeg\")\n",
    "video_clip.set_fps(fps)\n",
    "video_clip.duration = animation.duration\n",
    "\n",
    "animation.export(path=\"output_video.mp4\", background=video_clip)\n",
    "\n",
    "\n",
    "\n",
    "\n",
    "# # Create a custom VideoClip using numpy images\n",
    "# animation_clip = ImageSequenceClip(animation.final_frames, fps=fps, with_mask=True)\n",
    "# new_height = int(video_clip.size[1])\n",
    "# new_width = int(animation_clip.w * (new_height / animation_clip.h))\n",
    "# animation_clip = animation_clip.resize(width=new_width, height=new_height)\n",
    "\n",
    "# # Overlay the custom clip onto the video clip\n",
    "# final_clip = CompositeVideoClip(clips=[video_clip, animation_clip.set_position((\"right\", \"bottom\"))], use_bgclip=True)\n",
    "# audio_clip= AudioFileClip(\"./.temp/speech.mp3\")\n",
    "# audio_clip = CompositeAudioClip([audio_clip.set_start(0.3)])\n",
    "# final_clip = final_clip.set_audio(audio_clip)\n",
    "\n",
    "# # Write the final clip to a file\n",
    "# final_clip.write_videofile(\"output_video.mp4\", codec=\"libx264\", audio_codec='aac', fps=48)"
   ]
  }
 ],
 "metadata": {
  "kernelspec": {
   "display_name": "Python 3",
   "language": "python",
   "name": "python3"
  },
  "language_info": {
   "codemirror_mode": {
    "name": "ipython",
    "version": 3
   },
   "file_extension": ".py",
   "mimetype": "text/x-python",
   "name": "python",
   "nbconvert_exporter": "python",
   "pygments_lexer": "ipython3",
   "version": "3.10.2"
  }
 },
 "nbformat": 4,
 "nbformat_minor": 2
}
